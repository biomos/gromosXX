{
 "cells": [
  {
   "cell_type": "code",
   "execution_count": 1,
   "metadata": {},
   "outputs": [],
   "source": [
    "import schnet_v1\n",
    "from importlib import reload\n",
    "import numpy as np\n",
    "import torch"
   ]
  },
  {
   "cell_type": "code",
   "execution_count": 2,
   "metadata": {},
   "outputs": [
    {
     "data": {
      "text/plain": [
       "<module 'schnet_v1' from '/pool/radekc/GROMOS/GROMOS_workstation/gromosXX/md++/src/interaction/qmmm/schnet_v1.py'>"
      ]
     },
     "execution_count": 2,
     "metadata": {},
     "output_type": "execute_result"
    }
   ],
   "source": [
    "reload(schnet_v1)"
   ]
  },
  {
   "cell_type": "code",
   "execution_count": 3,
   "metadata": {},
   "outputs": [],
   "source": [
    "mlp_calculator = schnet_v1.SchNet_V1_Calculator('/pool/radekc/CD_lab_project/BuRNN/manuscript_data/MLPs/PM7/best_model', ['/pool/radekc/CD_lab_project/BuRNN/manuscript_data/MLPs/PM7_val/best_model', '/pool/radekc/CD_lab_project/BuRNN/manuscript_data/MLPs/B3LYP_DZ/best_model'], 100, 100)"
   ]
  },
  {
   "cell_type": "code",
   "execution_count": 14,
   "metadata": {},
   "outputs": [],
   "source": [
    "energy, forces, nn_valid_dev = mlp_calculator.calculate_next_step(atomic_numbers=[6, 8, 1, 1, 1, 1, 8, 1, 1, 8, 1, 1, 8, 1, 1, 8, 1, 1, 8, 1, 1, 8, 1, 1,\n",
    "        8, 1, 1, 8, 1, 1, 8, 1, 1, 8, 1, 1, 8, 1, 1, 8, 1, 1, 8, 1, 1, 8, 1, 1,\n",
    "        8, 1, 1], positions=[[ 3.7975e-01,  2.9263e-01,  1.9135e-01],\n",
    "        [-1.0409e+00,  3.7623e-01,  4.9951e-02],\n",
    "        [ 7.9817e-01, -3.7328e-01, -5.7777e-01],\n",
    "        [ 6.1009e-01, -1.5569e-01,  1.1691e+00],\n",
    "        [ 9.3262e-01,  1.2397e+00,  1.0529e-01],\n",
    "        [-1.5564e+00, -9.9104e-04,  8.1935e-01],\n",
    "        [-2.4124e+00, -3.7555e+00,  8.9283e-01],\n",
    "        [-2.8495e+00, -4.6466e+00,  1.0158e+00],\n",
    "        [-1.7852e+00, -3.5845e+00,  1.6527e+00],\n",
    "        [ 6.8420e-01,  4.0696e+00,  1.4046e+00],\n",
    "        [ 1.2111e+00,  4.8352e+00,  1.7739e+00],\n",
    "        [ 3.4471e-01,  4.3071e+00,  4.9438e-01],\n",
    "        [-1.5048e+00,  6.1030e-01, -4.4482e+00],\n",
    "        [-2.2833e+00,  5.8166e-01, -5.0754e+00],\n",
    "        [-7.2098e-01,  1.0268e+00, -4.9091e+00],\n",
    "        [ 3.4947e+00,  6.3116e-04, -1.2378e+00],\n",
    "        [ 3.3576e+00, -7.0224e-01, -1.9358e+00],\n",
    "        [ 3.9314e+00, -4.0704e-01, -4.3586e-01],\n",
    "        [-2.1886e+00, -1.0438e+00, -2.2044e+00],\n",
    "        [-1.9488e+00, -5.8731e-01, -1.3475e+00],\n",
    "        [-1.6751e+00, -6.3111e-01, -2.9568e+00],\n",
    "        [ 1.5148e+00, -2.5455e+00,  2.4992e+00],\n",
    "        [ 1.5898e+00, -3.3271e+00,  1.8799e+00],\n",
    "        [ 2.2134e+00, -1.8685e+00,  2.2674e+00],\n",
    "        [-1.3390e+00,  3.2696e+00,  3.5298e+00],\n",
    "        [-2.2351e+00,  2.8373e+00,  3.4282e+00],\n",
    "        [-1.1681e+00,  3.8697e+00,  2.7482e+00],\n",
    "        [-9.5115e-01, -2.9725e+00,  3.2980e+00],\n",
    "        [-9.7445e-01, -3.2824e+00,  4.2485e+00],\n",
    "        [-2.6868e-03, -2.8173e+00,  3.0213e+00],\n",
    "        [-3.9358e-01,  4.5757e+00, -9.3320e-01],\n",
    "        [-6.1830e-01,  5.2537e+00, -1.6332e+00],\n",
    "        [-5.8407e-01,  3.6588e+00, -1.2841e+00],\n",
    "        [-3.7149e-01,  1.9625e+00, -2.2576e+00],\n",
    "        [-8.2992e-01,  1.4843e+00, -3.0069e+00],\n",
    "        [-6.8592e-01,  1.5914e+00, -1.3838e+00],\n",
    "        [ 2.9727e+00,  2.7891e+00,  4.9363e-01],\n",
    "        [ 2.7449e+00,  1.9886e+00, -6.0836e-02],\n",
    "        [ 2.1976e+00,  3.0178e+00,  1.0828e+00],\n",
    "        [-2.4039e+00, -7.5181e-01,  2.0396e+00],\n",
    "        [-3.3045e+00, -1.1113e+00,  1.7949e+00],\n",
    "        [-1.9344e+00, -1.4055e+00,  2.6332e+00],\n",
    "        [ 3.6126e+00, -1.0317e+00,  1.4521e+00],\n",
    "        [ 4.1282e+00, -1.8713e+00,  1.2809e+00],\n",
    "        [ 4.0579e+00, -5.0971e-01,  2.1796e+00],\n",
    "        [ 5.1799e-01, -2.2947e+00, -3.8422e+00],\n",
    "        [-1.2582e-01, -2.2907e+00, -4.6075e+00],\n",
    "        [ 1.2056e-01, -2.7985e+00, -3.0751e+00],\n",
    "        [-5.6065e-01, -3.3084e+00, -9.0193e-01],\n",
    "        [-1.1274e-01, -2.5905e+00, -3.6894e-01],\n",
    "        [-1.5023e+00, -3.4207e+00, -5.8436e-01]], time_step=0)"
   ]
  },
  {
   "cell_type": "code",
   "execution_count": 15,
   "metadata": {},
   "outputs": [
    {
     "data": {
      "text/plain": [
       "-16.79120445251465"
      ]
     },
     "execution_count": 15,
     "metadata": {},
     "output_type": "execute_result"
    }
   ],
   "source": [
    "energy"
   ]
  },
  {
   "cell_type": "code",
   "execution_count": 6,
   "metadata": {},
   "outputs": [
    {
     "data": {
      "text/plain": [
       "1.7016549534322014"
      ]
     },
     "execution_count": 6,
     "metadata": {},
     "output_type": "execute_result"
    }
   ],
   "source": [
    "nn_valid_dev"
   ]
  }
 ],
 "metadata": {
  "kernelspec": {
   "display_name": "spk_py30912",
   "language": "python",
   "name": "python3"
  },
  "language_info": {
   "codemirror_mode": {
    "name": "ipython",
    "version": 3
   },
   "file_extension": ".py",
   "mimetype": "text/x-python",
   "name": "python",
   "nbconvert_exporter": "python",
   "pygments_lexer": "ipython3",
   "version": "3.9.12"
  }
 },
 "nbformat": 4,
 "nbformat_minor": 2
}
